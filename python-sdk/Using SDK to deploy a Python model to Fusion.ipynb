{
 "cells": [
  {
   "cell_type": "markdown",
   "metadata": {},
   "source": [
    "# Deploying Trained Python Models to Fusion\n",
    "\n",
    "The high level flow for deploying trained python models to Fusion is as follows:\n",
    "\n",
    "1. Train your model in Python\n",
    "   * This can be any kind of model (Keras, TF, scikit-learn, etc).\n",
    "   * When designing your prediction pipeline, be mindful of: (1) input schema, (2) input preprocessing, (3) model prediction, and (4) postprocessing, (5) output schema. For example, for a Keras-based sentiment analysis model --\n",
    "      * Input schema: A single string value\n",
    "      * Preprocessing: Tokenization, transform into integer sequence, and zero pad\n",
    "      * Model prediction: Keras predict(x)\n",
    "      * Postprocessing: Map output score to \"positive\" or \"negative\" label\n",
    "      * Output schema: float score and string label\n",
    "   * Serialize any data structures your model needs to disk. Generally, this will be your preprocessing pipeline (like a tokenizer with term->index mappings) and the actual model itself.\n",
    "2. Create a model bundle ZIP file.  This file contains\n",
    "   * All serialized pipelines / models that are necessary for prediction\n",
    "   * `predict.py`:\n",
    "      * `predict.py`: contains concrete implementations of two functions: init() and predict()\n",
    "         * `init(bundle_path: str)`: Called once on server startup, used for one-time setup of models, like loading pickled objects, models, etc.\n",
    "         * `predict(model_input: str)`: Perform model prediction.\n",
    "            * `model_input` is a dict representing inputs\n",
    "            * Must return a dict, representing model output. Returned values must be of one of the following types:\n",
    "              * Any numbers.Number (float, int, etc.)\n",
    "              * str\n",
    "              * list or ndarray of str\n",
    "              * list or ndarray of numbers.Number\n",
    "3. Test bundle locally using ML service SDK\n",
    "4. Deploy model to Fusion and test!\n",
    "\n",
    "This notebook demostrates the process of deploying Python models to Fusion."
   ]
  },
  {
   "cell_type": "code",
   "execution_count": 50,
   "metadata": {
    "ExecuteTime": {
     "end_time": "2019-08-19T19:08:12.729400Z",
     "start_time": "2019-08-19T19:08:12.506100Z"
    }
   },
   "outputs": [],
   "source": [
    "BUNDLE_WORKING_DIR = \"/tmp/bundle_working_dir\"\n",
    "BUNDLE_ZIP_FILE = \"/tmp/mymodel.zip\"\n",
    "\n",
    "!mkdir -p $BUNDLE_WORKING_DIR"
   ]
  },
  {
   "cell_type": "markdown",
   "metadata": {},
   "source": [
    "## Create `predict.py`"
   ]
  },
  {
   "cell_type": "code",
   "execution_count": 51,
   "metadata": {
    "ExecuteTime": {
     "end_time": "2019-08-19T19:08:13.506840Z",
     "start_time": "2019-08-19T19:08:13.473328Z"
    }
   },
   "outputs": [
    {
     "name": "stdout",
     "output_type": "stream",
     "text": [
      "Overwriting /tmp/bundle_working_dir/predict.py\n"
     ]
    }
   ],
   "source": [
    "%%writefile $BUNDLE_WORKING_DIR/predict.py\n",
    "\n",
    "import time\n",
    "\n",
    "def init(bundle_path: str):\n",
    "    \"\"\"\n",
    "    One-time initialization here.  For example, loading a serialized model from disk.\n",
    "    \n",
    "    :param bundle_path: Path to unzipped bundle, used to construct file path to bundle contents, i.e. os.path.join(bundle_path, \"model.pkl\")\n",
    "    \"\"\"\n",
    "    print(bundle_path)\n",
    "    time.sleep(1)\n",
    "    \n",
    "def predict(model_input: dict) -> dict: \n",
    "    \"\"\"\n",
    "    Generate prediction.\n",
    "    \n",
    "    :param model_input: a dict containing model input\n",
    "    :return: model output dict\n",
    "    \"\"\"\n",
    "    if 'input' not in model_input:\n",
    "        raise ValueError(\"Input must contain the key 'input'\")\n",
    "    \n",
    "    return {\n",
    "        \"output\": model_input['input'], # Just echo\n",
    "        \"vector\": [0.9, 1.3, 2, 3, 4, 5]\n",
    "    }\n",
    "    "
   ]
  },
  {
   "cell_type": "markdown",
   "metadata": {},
   "source": [
    "## Create bundle ZIP file"
   ]
  },
  {
   "cell_type": "code",
   "execution_count": 52,
   "metadata": {
    "ExecuteTime": {
     "end_time": "2019-08-19T19:08:14.743017Z",
     "start_time": "2019-08-19T19:08:14.542201Z"
    }
   },
   "outputs": [
    {
     "name": "stdout",
     "output_type": "stream",
     "text": [
      "updating: predict.py (deflated 49%)\r\n"
     ]
    }
   ],
   "source": [
    "!cd $BUNDLE_WORKING_DIR; zip -r $BUNDLE_ZIP_FILE ."
   ]
  },
  {
   "cell_type": "markdown",
   "metadata": {},
   "source": [
    "## Test model locally"
   ]
  },
  {
   "cell_type": "code",
   "execution_count": 53,
   "metadata": {
    "ExecuteTime": {
     "end_time": "2019-08-19T19:08:16.510201Z",
     "start_time": "2019-08-19T19:08:15.472043Z"
    }
   },
   "outputs": [
    {
     "name": "stdout",
     "output_type": "stream",
     "text": [
      "/var/folders/dd/rflrpdn974gchxm12nnn2qmh0000gn/T/tmpno9l_tz8\n"
     ]
    }
   ],
   "source": [
    "from lucidworks.ml.sdk import LocalBundleRunner\n",
    "runner = LocalBundleRunner(BUNDLE_ZIP_FILE)"
   ]
  },
  {
   "cell_type": "code",
   "execution_count": 54,
   "metadata": {
    "ExecuteTime": {
     "end_time": "2019-08-19T19:08:16.538948Z",
     "start_time": "2019-08-19T19:08:16.512865Z"
    }
   },
   "outputs": [
    {
     "data": {
      "text/plain": [
       "{'output': 'foo', 'vector': [0.9, 1.3, 2, 3, 4, 5]}"
      ]
     },
     "execution_count": 54,
     "metadata": {},
     "output_type": "execute_result"
    }
   ],
   "source": [
    "runner.predict({\"input\": \"foo\"})"
   ]
  },
  {
   "cell_type": "markdown",
   "metadata": {},
   "source": [
    "## Deploy model to Fusion"
   ]
  },
  {
   "cell_type": "code",
   "execution_count": 55,
   "metadata": {
    "ExecuteTime": {
     "end_time": "2019-08-19T19:08:21.830188Z",
     "start_time": "2019-08-19T19:08:21.404282Z"
    }
   },
   "outputs": [],
   "source": [
    "from lucidworks.ml.sdk import MLServiceSDKFusionClient\n",
    "from requests.auth import HTTPBasicAuth\n",
    "\n",
    "model_id = 'echo'\n",
    "app_name = 'ml_test'\n",
    "\n",
    "client = MLServiceSDKFusionClient('http://localhost:6764/api', \n",
    "                                  app_name,\n",
    "                                  auth=HTTPBasicAuth('admin', 'password123'))\n",
    "client.upload_model(BUNDLE_ZIP_FILE, model_id)"
   ]
  },
  {
   "cell_type": "code",
   "execution_count": 56,
   "metadata": {
    "ExecuteTime": {
     "end_time": "2019-08-19T19:08:23.605865Z",
     "start_time": "2019-08-19T19:08:23.358929Z"
    }
   },
   "outputs": [
    {
     "data": {
      "text/plain": [
       "[{'model_id': 'echo',\n",
       "  'type': 'python',\n",
       "  'last_modified': '2019-08-19T14:25:22Z'},\n",
       " {'model_id': 'opennlp',\n",
       "  'type': 'open-nlp',\n",
       "  'last_modified': '2019-08-19T14:44:34Z'},\n",
       " {'model_id': 'spacy',\n",
       "  'type': 'python',\n",
       "  'last_modified': '2019-08-19T14:44:33Z'}]"
      ]
     },
     "execution_count": 56,
     "metadata": {},
     "output_type": "execute_result"
    }
   ],
   "source": [
    "client.list_models()"
   ]
  },
  {
   "cell_type": "markdown",
   "metadata": {},
   "source": [
    "## Test model prediction in Fusion"
   ]
  },
  {
   "cell_type": "code",
   "execution_count": 60,
   "metadata": {
    "ExecuteTime": {
     "end_time": "2019-08-19T19:32:05.166335Z",
     "start_time": "2019-08-19T19:32:04.860957Z"
    }
   },
   "outputs": [
    {
     "data": {
      "text/plain": [
       "{'output': 'foo', 'vector': [0.9, 1.3, 2.0, 3.0, 4.0, 5.0]}"
      ]
     },
     "execution_count": 60,
     "metadata": {},
     "output_type": "execute_result"
    }
   ],
   "source": [
    "client.predict(model_id, {\"input\": \"foo\"})"
   ]
  },
  {
   "cell_type": "markdown",
   "metadata": {},
   "source": [
    "## Generate predictions in a Fusion Query Pipeline"
   ]
  },
  {
   "cell_type": "code",
   "execution_count": 58,
   "metadata": {
    "ExecuteTime": {
     "end_time": "2019-08-19T19:22:52.025394Z",
     "start_time": "2019-08-19T19:22:50.701272Z"
    }
   },
   "outputs": [],
   "source": [
    "client.create_sample_ml_query_pipeline('sample_echo_ml', model_id, 'input', 'output')"
   ]
  },
  {
   "cell_type": "code",
   "execution_count": 61,
   "metadata": {
    "ExecuteTime": {
     "end_time": "2019-08-19T19:49:01.203610Z",
     "start_time": "2019-08-19T19:49:00.697995Z"
    }
   },
   "outputs": [
    {
     "data": {
      "text/plain": [
       "{'response': {'numFound': 0, 'start': 0, 'maxScore': 0.0, 'docs': []},\n",
       " 'responseHeader': {'zkConnected': True,\n",
       "  'status': 0,\n",
       "  'QTime': 1,\n",
       "  'params': {'output': 'I love this movie',\n",
       "   'q': 'I love this movie',\n",
       "   'defType': 'edismax',\n",
       "   'lw.pipelineId': 'sample_echo_ml',\n",
       "   'fl': ['*', 'score'],\n",
       "   'context': 'app:ml_test',\n",
       "   'start': '0',\n",
       "   'isFusionQuery': 'true',\n",
       "   'rows': '10',\n",
       "   'wt': 'json',\n",
       "   'fusionQueryId': 'mI2G07iTt7'},\n",
       "  'totalTime': 182}}"
      ]
     },
     "execution_count": 61,
     "metadata": {},
     "output_type": "execute_result"
    }
   ],
   "source": [
    "response = client.query('sample_echo_ml', 'ml_test', 'I love this movie')\n",
    "response"
   ]
  }
 ],
 "metadata": {
  "kernelspec": {
   "display_name": "Python 3",
   "language": "python",
   "name": "python3"
  },
  "language_info": {
   "codemirror_mode": {
    "name": "ipython",
    "version": 3
   },
   "file_extension": ".py",
   "mimetype": "text/x-python",
   "name": "python",
   "nbconvert_exporter": "python",
   "pygments_lexer": "ipython3",
   "version": "3.6.3"
  },
  "toc": {
   "nav_menu": {},
   "number_sections": true,
   "sideBar": true,
   "skip_h1_title": false,
   "toc_cell": false,
   "toc_position": {},
   "toc_section_display": "block",
   "toc_window_display": false
  }
 },
 "nbformat": 4,
 "nbformat_minor": 2
}
