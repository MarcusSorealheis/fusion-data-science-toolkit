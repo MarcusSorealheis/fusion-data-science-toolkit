{
 "cells": [
  {
   "cell_type": "markdown",
   "metadata": {},
   "source": [
    "# Using SDK to deploy a Python model with multiple fields"
   ]
  },
  {
   "cell_type": "code",
   "execution_count": null,
   "metadata": {
    "ExecuteTime": {
     "end_time": "2019-08-21T16:52:07.677264Z",
     "start_time": "2019-08-21T16:52:07.279720Z"
    }
   },
   "outputs": [],
   "source": [
    "BUNDLE_WORKING_DIR = \"/tmp/bundle_multiple_fields_working_dir\"\n",
    "BUNDLE_ZIP_FILE = \"/tmp/mymodel_multiple_fields.zip\"\n",
    "\n",
    "!mkdir -p $BUNDLE_WORKING_DIR"
   ]
  },
  {
   "cell_type": "markdown",
   "metadata": {},
   "source": [
    "## Create `predict.py`"
   ]
  },
  {
   "cell_type": "code",
   "execution_count": 94,
   "metadata": {
    "ExecuteTime": {
     "end_time": "2019-08-21T17:19:59.071697Z",
     "start_time": "2019-08-21T17:19:59.043371Z"
    }
   },
   "outputs": [
    {
     "name": "stdout",
     "output_type": "stream",
     "text": [
      "Overwriting /tmp/bundle_multiple_fields_working_dir/predict.py\n"
     ]
    }
   ],
   "source": [
    "%%writefile $BUNDLE_WORKING_DIR/predict.py\n",
    "\n",
    "import time\n",
    "\n",
    "def init(bundle_path: str):\n",
    "    \"\"\"\n",
    "    One-time initialization here.  For example, loading a serialized model from disk.\n",
    "    \n",
    "    :param bundle_path: Path to unzipped bundle, used to construct file path to bundle contents, i.e. os.path.join(bundle_path, \"model.pkl\")\n",
    "    \"\"\"\n",
    "    print(bundle_path)\n",
    "    time.sleep(1)\n",
    "    \n",
    "def predict(model_input: dict) -> dict: \n",
    "    \"\"\"\n",
    "    Generate prediction.\n",
    "\n",
    "    Must return a dict, representing model output. Returned values must be of one of the following types:\n",
    "      * Any numbers.Number (float, int, etc.)\n",
    "      * str\n",
    "      * list or ndarray of str\n",
    "      * list or ndarray of numbers.Number    \n",
    "    \n",
    "    :param model_input: a dict containing model input\n",
    "    :return: model output dict\n",
    "    \"\"\"\n",
    "    if 'a' not in model_input:\n",
    "        raise ValueError(\"Input must contain the key 'a'\")\n",
    "    \n",
    "    if 'b' not in model_input:\n",
    "        raise ValueError(\"Input must contain the key 'b'\")\n",
    "    \n",
    "    a = float(model_input['a'])\n",
    "    b = float(model_input['b'])\n",
    "    \n",
    "    return {\n",
    "        \"product\": a * b,\n",
    "        \"sum\": a + b\n",
    "    }    "
   ]
  },
  {
   "cell_type": "markdown",
   "metadata": {},
   "source": [
    "## Create bundle ZIP file"
   ]
  },
  {
   "cell_type": "code",
   "execution_count": 95,
   "metadata": {
    "ExecuteTime": {
     "end_time": "2019-08-21T17:20:02.948413Z",
     "start_time": "2019-08-21T17:20:02.779653Z"
    }
   },
   "outputs": [
    {
     "name": "stdout",
     "output_type": "stream",
     "text": [
      "updating: predict.py (deflated 55%)\r\n"
     ]
    }
   ],
   "source": [
    "!cd $BUNDLE_WORKING_DIR; zip -r $BUNDLE_ZIP_FILE ."
   ]
  },
  {
   "cell_type": "markdown",
   "metadata": {},
   "source": [
    "## Test model locally"
   ]
  },
  {
   "cell_type": "code",
   "execution_count": 87,
   "metadata": {
    "ExecuteTime": {
     "end_time": "2019-08-21T17:16:37.532094Z",
     "start_time": "2019-08-21T17:16:36.489974Z"
    }
   },
   "outputs": [
    {
     "name": "stdout",
     "output_type": "stream",
     "text": [
      "/var/folders/dd/rflrpdn974gchxm12nnn2qmh0000gn/T/tmpywz3zi13\n"
     ]
    }
   ],
   "source": [
    "from lucidworks.ml.sdk import LocalBundleRunner\n",
    "runner = LocalBundleRunner(BUNDLE_ZIP_FILE)"
   ]
  },
  {
   "cell_type": "code",
   "execution_count": 88,
   "metadata": {
    "ExecuteTime": {
     "end_time": "2019-08-21T17:16:38.311964Z",
     "start_time": "2019-08-21T17:16:38.285658Z"
    }
   },
   "outputs": [
    {
     "data": {
      "text/plain": [
       "{'product': 25.0, 'sum': 10.0}"
      ]
     },
     "execution_count": 88,
     "metadata": {},
     "output_type": "execute_result"
    }
   ],
   "source": [
    "runner.predict({\n",
    "    \"a\": 5,\n",
    "    \"b\": 5\n",
    "})"
   ]
  },
  {
   "cell_type": "markdown",
   "metadata": {},
   "source": [
    "## Deploy model to Fusion"
   ]
  },
  {
   "cell_type": "code",
   "execution_count": 96,
   "metadata": {
    "ExecuteTime": {
     "end_time": "2019-08-21T17:20:07.722048Z",
     "start_time": "2019-08-21T17:20:07.472775Z"
    }
   },
   "outputs": [],
   "source": [
    "from lucidworks.ml.sdk import MLServiceSDKFusionClient\n",
    "from requests.auth import HTTPBasicAuth\n",
    "\n",
    "model_id = 'arithmetic'\n",
    "app_name = 'ml_test'\n",
    "\n",
    "client = MLServiceSDKFusionClient('http://localhost:6764/api', \n",
    "                                  app_name,\n",
    "                                  auth=HTTPBasicAuth('admin', 'password123'))\n",
    "client.upload_model(BUNDLE_ZIP_FILE, model_id)"
   ]
  },
  {
   "cell_type": "code",
   "execution_count": 90,
   "metadata": {
    "ExecuteTime": {
     "end_time": "2019-08-21T17:17:05.098103Z",
     "start_time": "2019-08-21T17:17:04.815435Z"
    }
   },
   "outputs": [
    {
     "data": {
      "text/plain": [
       "[{'model_id': 'echo',\n",
       "  'type': 'python',\n",
       "  'last_modified': '2019-08-19T14:25:22Z'},\n",
       " {'model_id': 'opennlp',\n",
       "  'type': 'open-nlp',\n",
       "  'last_modified': '2019-08-19T14:44:34Z'},\n",
       " {'model_id': 'arithmetic',\n",
       "  'type': 'python',\n",
       "  'last_modified': '2019-08-19T19:29:52Z'},\n",
       " {'model_id': 'spacy',\n",
       "  'type': 'python',\n",
       "  'last_modified': '2019-08-19T14:44:33Z'}]"
      ]
     },
     "execution_count": 90,
     "metadata": {},
     "output_type": "execute_result"
    }
   ],
   "source": [
    "client.list_models()"
   ]
  },
  {
   "cell_type": "markdown",
   "metadata": {},
   "source": [
    "## Test model prediction in Fusion"
   ]
  },
  {
   "cell_type": "code",
   "execution_count": 107,
   "metadata": {
    "ExecuteTime": {
     "end_time": "2019-08-21T17:56:09.023904Z",
     "start_time": "2019-08-21T17:56:08.797532Z"
    }
   },
   "outputs": [
    {
     "data": {
      "text/plain": [
       "{'product': 25.0, 'sum': 10.0}"
      ]
     },
     "execution_count": 107,
     "metadata": {},
     "output_type": "execute_result"
    }
   ],
   "source": [
    "client.predict(model_id, {\n",
    "    \"a\": 5,\n",
    "    \"b\": 5\n",
    "})"
   ]
  },
  {
   "cell_type": "markdown",
   "metadata": {},
   "source": [
    "## Generate predictions in Fusion Query Pipeline with custom JS transformation scripts"
   ]
  },
  {
   "cell_type": "code",
   "execution_count": 92,
   "metadata": {
    "ExecuteTime": {
     "end_time": "2019-08-21T17:19:06.474805Z",
     "start_time": "2019-08-21T17:19:05.097602Z"
    }
   },
   "outputs": [],
   "source": [
    "input_js_script = \"\"\"\n",
    "var modelInput = new java.util.HashMap()\n",
    "var a = request.getFirstParam(\"a\")\n",
    "var b = request.getFirstParam(\"b\")\n",
    "\n",
    "modelInput.put(\"a\", a || \"1\")\n",
    "modelInput.put(\"b\", b || \"1\")\n",
    "modelInput\n",
    "\"\"\"\n",
    "\n",
    "output_js_script = \"\"\"\n",
    "request.putSingleParam(\"product\", modelOutput.get(\"product\"))\n",
    "request.putSingleParam(\"sum\", modelOutput.get(\"sum\"))\n",
    "\"\"\"\n",
    "client.create_ml_query_pipeline('sample_arithmetic_ml', \n",
    "                                model_id, \n",
    "                                input_js_script, \n",
    "                                output_js_script)"
   ]
  },
  {
   "cell_type": "code",
   "execution_count": 93,
   "metadata": {
    "ExecuteTime": {
     "end_time": "2019-08-21T17:19:23.133767Z",
     "start_time": "2019-08-21T17:19:22.640400Z"
    }
   },
   "outputs": [
    {
     "name": "stdout",
     "output_type": "stream",
     "text": [
      "product: 25\n",
      "sum: 10\n",
      "\n",
      "Response:\n",
      "{\n",
      "    \"response\": {\n",
      "        \"numFound\": 0,\n",
      "        \"start\": 0,\n",
      "        \"maxScore\": 0.0,\n",
      "        \"docs\": []\n",
      "    },\n",
      "    \"responseHeader\": {\n",
      "        \"zkConnected\": true,\n",
      "        \"status\": 0,\n",
      "        \"QTime\": 2,\n",
      "        \"params\": {\n",
      "            \"a\": \"5\",\n",
      "            \"b\": \"5\",\n",
      "            \"product\": \"25\",\n",
      "            \"lw.pipelineId\": \"sample_arithmetic_ml\",\n",
      "            \"fl\": [\n",
      "                \"*\",\n",
      "                \"score\"\n",
      "            ],\n",
      "            \"start\": \"0\",\n",
      "            \"isFusionQuery\": \"true\",\n",
      "            \"sum\": \"10\",\n",
      "            \"rows\": \"10\",\n",
      "            \"fusionQueryId\": \"53DwtByBQE\",\n",
      "            \"q\": \"\",\n",
      "            \"defType\": \"edismax\",\n",
      "            \"context\": \"app:ml_test\",\n",
      "            \"wt\": \"json\"\n",
      "        },\n",
      "        \"totalTime\": 240\n",
      "    }\n",
      "}\n"
     ]
    }
   ],
   "source": [
    "response = client.query('sample_arithmetic_ml', 'ml_test', '', {\n",
    "    'a': 5,\n",
    "    'b': 5\n",
    "})\n",
    "print(\"product:\", response['responseHeader']['params']['product'])\n",
    "print(\"sum:\", response['responseHeader']['params']['sum'])\n",
    "print(\"\")\n",
    "print(\"Response:\")\n",
    "print(json.dumps(response, indent=4))"
   ]
  }
 ],
 "metadata": {
  "kernelspec": {
   "display_name": "Python 3",
   "language": "python",
   "name": "python3"
  },
  "language_info": {
   "codemirror_mode": {
    "name": "ipython",
    "version": 3
   },
   "file_extension": ".py",
   "mimetype": "text/x-python",
   "name": "python",
   "nbconvert_exporter": "python",
   "pygments_lexer": "ipython3",
   "version": "3.6.3"
  },
  "toc": {
   "nav_menu": {},
   "number_sections": true,
   "sideBar": true,
   "skip_h1_title": false,
   "toc_cell": false,
   "toc_position": {},
   "toc_section_display": "block",
   "toc_window_display": false
  }
 },
 "nbformat": 4,
 "nbformat_minor": 2
}
